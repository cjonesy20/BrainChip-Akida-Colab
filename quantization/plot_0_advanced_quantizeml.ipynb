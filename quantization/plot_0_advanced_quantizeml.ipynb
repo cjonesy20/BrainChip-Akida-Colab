{
  "cells": [
    {
      "cell_type": "code",
      "execution_count": null,
      "metadata": {},
      "outputs": [],
      "source": [
        "!wget https://doc.brainchipinc.com/_downloads/0792bc3dc7b01941f86b4f993c20ab5f/requirements.txt\n",
        "!pip install -r requirements.txt"
      ]
    },
    {
      "cell_type": "code",
      "execution_count": null,
      "metadata": {
        "collapsed": false
      },
      "outputs": [],
      "source": [
        "%matplotlib inline"
      ]
    },
    {
      "cell_type": "markdown",
      "metadata": {},
      "source": [
        "\n",
        "# Advanced QuantizeML tutorial\n",
        "\n",
        "This tutorial provides a comprehensive understanding of quantization in [QuantizeML python\n",
        "package](../../user_guide/quantizeml.html#quantizeml-toolkit)_. Refer to [QuantizeML user\n",
        "guide](../../user_guide/quantizeml.html)_  and [Global Akida workflow tutorial](../general/plot_0_global_workflow.html)_ for additional resources.\n",
        "\n",
        "[QuantizeML python package](../../user_guide/quantizeml.html#quantizeml-toolkit)_ provides\n",
        "a user-friendly collection of functions for obtaining a quantized model. The [quantize](../../api_reference/quantizeml_apis.html#quantizeml.models.quantize)_ function replaces Keras\n",
        "layers with quantized, integer only layers from [QuantizeML](../../user_guide/quantizeml.html)_.\n"
      ]
    },
    {
      "cell_type": "markdown",
      "metadata": {},
      "source": [
        "## 1. Defining a quantization scheme\n",
        "\n",
        "The quantization scheme refers to all the parameters used for quantization, that is the method of\n",
        "quantization such as per-axis or per-tensor, and the bitwidth used for inputs, outputs and\n",
        "weights.\n",
        "\n",
        "The first part in this section explains how to define a quantization scheme using\n",
        "[QuantizationParams](../../api_reference/quantizeml_apis.html#quantizeml.layers.QuantizationParams)_,\n",
        "which defines a homogeneous scheme that applies to all layers, and the second part explains how to\n",
        "fully customize the quantization scheme using a configuration file.\n",
        "\n",
        "\n"
      ]
    },
    {
      "cell_type": "markdown",
      "metadata": {},
      "source": [
        "### 1.1. The quantization parameters\n",
        "\n",
        "The easiest way to customize quantization is to use the ``qparams`` parameter of the [quantize](../../api_reference/quantizeml_apis.html#quantizeml.models.quantize) function. This is made\n",
        "possible by creating a [QuantizationParams](../../api_reference/quantizeml_apis.html#quantizeml.layers.QuantizationParams)_ object.\n",
        "\n"
      ]
    },
    {
      "cell_type": "code",
      "execution_count": null,
      "metadata": {
        "collapsed": false
      },
      "outputs": [],
      "source": [
        "from quantizeml.layers import QuantizationParams\n",
        "\n",
        "qparams = QuantizationParams(input_weight_bits=8, weight_bits=8, activation_bits=8,\n",
        "                             per_tensor_activations=False, output_bits=8, buffer_bits=32)"
      ]
    },
    {
      "cell_type": "markdown",
      "metadata": {},
      "source": [
        "By default, the quantization scheme adopted is 8-bit with per-axis activations, but it is possible\n",
        "to set every parameter with a different value. The following list is a detailed description of the\n",
        "parameters with tips on how to set them:\n",
        "\n",
        "- ``input_weight_bits`` is the bitwidth used to quantize weights of the first layer. It is usually\n",
        "  set to 8 which allows to better preserve the overall accuracy.\n",
        "- ``weight_bits`` is the bitwidth  used to quantize all other weights. It is usually set to 8\n",
        "  (Akida 2.0) or 4 (Akida 1.0).\n",
        "- ``activation_bits`` is the bitwidth used to quantize all ReLU activations. It is usually set to\n",
        "  8 (Akida 2.0) or 4 (Akida 1.0) but can be lower for edge learning (1-bit).\n",
        "- ``per_tensor_activations`` is a boolean that allows to define a per-axis (default) or per-tensor\n",
        "  quantization for ReLU activations. Per-axis quantization will usually provide more accurate\n",
        "  results (default ``False`` value) but it might be more challenging to [calibrate](plot_0_advanced_quantizeml.html#calibration)_ the model. Note that Akida 1.0 only supports\n",
        "  per-tensor activations.\n",
        "- ``output_bits`` is the bitwidth used to quantize intermediate results in\n",
        "  [OutputQuantizer](../../api_reference/quantizeml_apis.html#quantizeml.layers.OutputQuantizer)_.\n",
        "  Go back to the [user guide quantization flow](../../user_guide/quantizeml.html#quantization-flow)_\n",
        "  for details about this process.\n",
        "- ``buffer_bits`` is the maximum bitwidth allowed for low-level integer operations (e.g matrix\n",
        "  multiplications). It is set to 32 and should not be changed as this is what the Akida hardware\n",
        "  target will use.\n",
        "\n",
        "<div class=\"alert alert-info\"><h4>Note</h4><p>It is recommended to quantize a model to 8-bit or 4-bit to ensure it is Akida hardware\n",
        "          compatible.</p></div>\n",
        "\n",
        "<div class=\"alert alert-danger\"><h4>Warning</h4><p>``QuantizationParams`` is only applied the first time a model is quantized.\n",
        "             If you want to re-quantize a model, you must to provide a complete ``q_config``.</p></div>\n",
        "\n"
      ]
    },
    {
      "cell_type": "markdown",
      "metadata": {},
      "source": [
        "### 1.2. Using a configuration file\n",
        "\n",
        "Quantization can be further customized via a JSON configuration passed to the ``q_config``\n",
        "parameter of the [quantize](../../api_reference/quantizeml_apis.html#quantizeml.models.quantize)_\n",
        "function. This usage should be limited to targeted customization as writing a whole\n",
        "configuration from scratch is really error prone. An example of targeted customization is to set\n",
        "the quantization bitwidth of the output of a feature extractor to 1 which will allow edge learning.\n",
        "\n",
        "<div class=\"alert alert-danger\"><h4>Warning</h4><p>When provided, the configuration file has priority over arguments. As a result\n",
        "             however, the configuration file therefore must contain all parameters - you cannot\n",
        "             rely on argument defaults to set non-specified values.</p></div>\n",
        "\n",
        "The following code snippets show what a configuration file looks like and how to edit it to\n",
        "customize quantization.\n",
        "\n",
        "\n"
      ]
    },
    {
      "cell_type": "code",
      "execution_count": null,
      "metadata": {
        "collapsed": false
      },
      "outputs": [],
      "source": [
        "import keras\n",
        "import json\n",
        "from quantizeml.models import quantize, dump_config\n",
        "from quantizeml.layers import QuantizationParams\n",
        "\n",
        "# Define an example model with few layers to keep what follows readable\n",
        "input = keras.layers.Input((28, 28, 3))\n",
        "x = keras.layers.DepthwiseConv2D(kernel_size=3, name=\"dw_conv\")(input)\n",
        "x = keras.layers.Conv2D(filters=32, kernel_size=1, name=\"pw_conv\")(x)\n",
        "x = keras.layers.ReLU(name=\"relu\")(x)\n",
        "x = keras.layers.Dense(units=10, name=\"dense\")(x)\n",
        "\n",
        "model = keras.Model(input, x)\n",
        "\n",
        "# Define QuantizationParams with specific values just for the sake of understanding the JSON\n",
        "# configuration that follows.\n",
        "qparams = QuantizationParams(input_weight_bits=16, weight_bits=4, activation_bits=6, output_bits=12,\n",
        "                             per_tensor_activations=True, buffer_bits=24)\n",
        "\n",
        "# Quantize the model\n",
        "quantized_model = quantize(model, qparams=qparams)\n",
        "quantized_model.summary()"
      ]
    },
    {
      "cell_type": "code",
      "execution_count": null,
      "metadata": {
        "collapsed": false
      },
      "outputs": [],
      "source": [
        "# Dump the configuration\n",
        "config = dump_config(quantized_model)\n",
        "\n",
        "# Display in a JSON format for readability\n",
        "print(json.dumps(config, indent=4))"
      ]
    },
    {
      "cell_type": "markdown",
      "metadata": {},
      "source": [
        "Explaining the above configuration:\n",
        "\n",
        "- the layer names are indexing the configuration dictionary.\n",
        "- the depthwise layer has an OutputQuantizer set to 12-bit (``output_bits=12``) to reduce\n",
        "  intermediate potentials bitwidth before the pointwise layer that follows (automatically added\n",
        "  when calling ``quantize``).\n",
        "- the depthwise layer weights are quantized to 16-bit because it is the first layer\n",
        "  (``input_weight_bits=16``) and are quantized per-axis (default for weights). The given axis is\n",
        "  -2 because of Keras depthwise kernel shape that is (Kx, Ky, F, 1), channel dimension is at index\n",
        "  -2.\n",
        "- the pointwise layer has weights quantized to 4-bit (``weight_bits=4``) but the quantization axis\n",
        "  is not specified as it defaults to -1 for a per-axis quantization. One would need to set it to\n",
        "  ``None`` for a per-tensor quantization.\n",
        "- the ReLU activation is quantized to 6-bit per-tensor (``activation_bits=6,\n",
        "  per_tensor_activations=True``)\n",
        "- all ``buffer_bitwidth`` are set to 24 (``buffer_bits=24``)\n",
        "\n",
        "The configuration will now be edited and used to quantize the float model with ``q_config``\n",
        "parameter.\n",
        "\n"
      ]
    },
    {
      "cell_type": "code",
      "execution_count": null,
      "metadata": {
        "collapsed": false
      },
      "outputs": [],
      "source": [
        "# Edit the ReLU activation configuration\n",
        "config[\"relu\"][\"output_quantizer\"]['bitwidth'] = 1\n",
        "config[\"relu\"][\"output_quantizer\"]['axis'] = 'per-axis'\n",
        "config[\"relu\"]['buffer_bitwidth'] = 32\n",
        "\n",
        "# Drop other layers configurations\n",
        "del config['dw_conv']\n",
        "del config['pw_conv']\n",
        "del config['dense']\n",
        "\n",
        "# The configuration is now limited to the ReLU activation\n",
        "print(json.dumps(config, indent=4))"
      ]
    },
    {
      "cell_type": "markdown",
      "metadata": {},
      "source": [
        "Now quantize with setting both ``qparams`` and ``q_config`` parameters: the activation will be\n",
        "quantized using the given configuration and the other layers will use what is provided in\n",
        "``qparams``.\n",
        "\n"
      ]
    },
    {
      "cell_type": "code",
      "execution_count": null,
      "metadata": {
        "collapsed": false
      },
      "outputs": [],
      "source": [
        "new_quantized_model = quantize(model, q_config=config, qparams=qparams)\n",
        "\n",
        "# Dump the new configuration\n",
        "new_config = dump_config(new_quantized_model)\n",
        "\n",
        "# Display in a JSON format for readability\n",
        "print(json.dumps(new_config, indent=4))"
      ]
    },
    {
      "cell_type": "markdown",
      "metadata": {},
      "source": [
        "The new configuration contains both the manually set configuration in the activation and the\n",
        "parameters defined configuration for other layers.\n",
        "\n"
      ]
    },
    {
      "cell_type": "markdown",
      "metadata": {},
      "source": [
        "## 2. Calibration\n",
        "\n"
      ]
    },
    {
      "cell_type": "markdown",
      "metadata": {},
      "source": [
        "### 2.1. Why is calibration required?\n",
        "\n",
        "[OutputQuantizer](../../api_reference/quantizeml_apis.html#quantizeml.layers.OutputQuantizer)_\n",
        "are added between layer blocks during quantization in order to decrease intermediate potential\n",
        "bitwidth and prevent saturation. Calibration is the process of defining the best quantization\n",
        "range possible for the OutputQuantizer.\n",
        "\n",
        "Calibration will statistically determine the quantization range by passing samples into the float\n",
        "model and observing the intermediate output values. The quantization range is stored in\n",
        "``range_max`` variable. The calibration algorithm used in QuantizeML is based on a moving maximum:\n",
        "``range_max`` is initialized with the maximum value of the first batch of samples (per-axis or\n",
        "per-tensor depending on the quantization scheme) and the following batches will update\n",
        "``range_max`` with a moving momentum strategy (momentum is set to 0.9). Refer to the following\n",
        "pseudo code:\n",
        "\n",
        "```python\n",
        "samples_max = reduce_max(samples)\n",
        "delta = previous_range_max - new_range_max * (1 - momentum)\n",
        "new_range_max = previous_range_max - delta\n",
        "```\n",
        "In QuantizeML like in other frameworks, the calibration process happens simultaneously\n",
        "with quantization and the [quantize](../../api_reference/quantizeml_apis.html#quantizeml.models.quantize)_ function thus comes with\n",
        "calibration parameters: ``samples``, ``num_samples``, ``batch_size`` and ``epochs``. Sections\n",
        "below describe how to set these parameters.\n",
        "\n",
        "<div class=\"alert alert-info\"><h4>Note</h4><p>Calibration does not require any label or sample annotation and is therefore different\n",
        "          from training.</p></div>\n",
        "\n"
      ]
    },
    {
      "cell_type": "markdown",
      "metadata": {},
      "source": [
        "### 2.2. The samples\n",
        "\n",
        "There are two types of calibration samples: randomly generated samples or real samples.\n",
        "\n",
        "When the ``samples`` parameter of ``quantize`` is left to the default ``None`` value, random\n",
        "samples will be generated using the ``num_samples`` value (default is 1024). When the model input\n",
        "shape has 1 or 3 channels, which corresponds to an image, the random samples value are unsigned\n",
        "8-bit integers in the [0, 255] range. If the channel dimension is not 1 or 3, the generated\n",
        "samples are 8-bit signed integers in the [-128, 127] range.\n",
        "If that does not correspond to the range expected by your model, either add a [Rescaling](https://www.tensorflow.org/api_docs/python/tf/keras/layers/Rescaling)_ layer to your model\n",
        "using the [insert_rescaling helper](../../api_reference/quantizeml_apis.html#quantizeml.models.transforms.insert_rescaling)_ or\n",
        "provide real samples.\n",
        "\n",
        "Real samples are often (but not necessarily) taken from the training dataset and should be the\n",
        "preferred option for calibration as it will always lead to better results.\n",
        "\n",
        "Samples are batched before being passed to the model for calibration. It is recommended to use at\n",
        "least 1024 samples for calibration. When providing samples, ``num_samples`` is only used to\n",
        "compute the number of steps during calibration.\n",
        "\n",
        "```python\n",
        "if batch_size is None:\n",
        "    steps = num_samples\n",
        "else:\n",
        "    steps = np.ceil(num_samples / batch_size)\n",
        "```\n"
      ]
    },
    {
      "cell_type": "markdown",
      "metadata": {},
      "source": [
        "### 2.3. Other calibration parameters\n",
        "\n",
        "#### ``batch_size``\n",
        "Setting a large enough ``batch_size`` is important as it will impact ``range_max`` initialization\n",
        "that is made on the first batch of samples. The recommended value is 100.\n",
        "\n",
        "#### ``epochs``\n",
        "It is the number of iterations over the calibration samples. Increasing the value will allow for\n",
        "more updates of the ``range_max`` variables thanks to the momentum policy without requiring a huge\n",
        "amount of samples. The recommended value is 2.\n",
        "\n"
      ]
    }
  ],
  "metadata": {
    "kernelspec": {
      "display_name": "Python 3",
      "language": "python",
      "name": "python3"
    },
    "language_info": {
      "codemirror_mode": {
        "name": "ipython",
        "version": 3
      },
      "file_extension": ".py",
      "mimetype": "text/x-python",
      "name": "python",
      "nbconvert_exporter": "python",
      "pygments_lexer": "ipython3",
      "version": "3.8.10"
    }
  },
  "nbformat": 4,
  "nbformat_minor": 0
}
