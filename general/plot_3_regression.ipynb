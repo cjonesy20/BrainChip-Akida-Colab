{
  "cells": [
    {
      "cell_type": "code",
      "execution_count": null,
      "metadata": {},
      "outputs": [],
      "source": [
        "!wget https://doc.brainchipinc.com/_downloads/0792bc3dc7b01941f86b4f993c20ab5f/requirements.txt\n",
        "!pip install -r requirements.txt"
      ]
    },
    {
      "cell_type": "code",
      "execution_count": null,
      "metadata": {
        "collapsed": false
      },
      "outputs": [],
      "source": [
        "%matplotlib inline"
      ]
    },
    {
      "cell_type": "markdown",
      "metadata": {},
      "source": [
        "\n",
        "# Age estimation (regression) example\n",
        "\n",
        "This tutorial aims to demonstrate the comparable accuracy of the Akida-compatible\n",
        "model to the traditional Keras model in performing an age estimation task.\n",
        "\n",
        "It uses the [UTKFace dataset](https://susanqq.github.io/UTKFace/)_, which\n",
        "includes images of faces and age labels, to showcase how well akida compatible\n",
        "model can predict the ages of individuals based on their facial features.\n"
      ]
    },
    {
      "cell_type": "markdown",
      "metadata": {},
      "source": [
        "## 1. Load the UTKFace Dataset\n",
        "\n",
        "The UTKFace dataset has 20,000+ diverse face images spanning 0 to 116 years.\n",
        "It includes age, gender, ethnicity annotations. This dataset is useful for\n",
        "various tasks like age estimation, face detection, and more.\n",
        "\n",
        "Load the dataset from Brainchip data server using the [load_data](../../api_reference/akida_models_apis.html#akida_models.utk_face.preprocessing.load_data)_\n",
        "helper (decode JPEG images and load the associated labels).\n",
        "\n"
      ]
    },
    {
      "cell_type": "code",
      "execution_count": null,
      "metadata": {
        "collapsed": false
      },
      "outputs": [],
      "source": [
        "from akida_models.utk_face.preprocessing import load_data\n",
        "\n",
        "# Load the dataset\n",
        "x_train, y_train, x_test, y_test = load_data()"
      ]
    },
    {
      "cell_type": "markdown",
      "metadata": {},
      "source": [
        "Akida models accept only [uint8 tensors](../../api_reference/akida_apis.html?highlight=uint8#akida.Model)\n",
        "as inputs. Use uint8 raw data for Akida performance evaluation.\n",
        "\n"
      ]
    },
    {
      "cell_type": "code",
      "execution_count": null,
      "metadata": {
        "collapsed": false
      },
      "outputs": [],
      "source": [
        "# For Akida inference, use uint8 raw data\n",
        "x_test_akida = x_test.astype('uint8')"
      ]
    },
    {
      "cell_type": "markdown",
      "metadata": {},
      "source": [
        "## 2. Load a pre-trained native Keras model\n",
        "\n",
        "The model is a simplified version inspired from [VGG](https://arxiv.org/abs/1409.1556)_\n",
        "architecture. It consists of a succession of convolutional and pooling layers\n",
        "and ends with two dense layers that outputs a single value\n",
        "corresponding to the estimated age.\n",
        "\n",
        "The performance of the model is evaluated using the \"Mean Absolute Error\"\n",
        "(MAE). The MAE, used as a metric in regression problem, is calculated as an\n",
        "average of absolute differences between the target values and the predictions.\n",
        "The MAE is a linear score, i.e. all the individual differences are equally\n",
        "weighted in the average.\n",
        "\n"
      ]
    },
    {
      "cell_type": "code",
      "execution_count": null,
      "metadata": {
        "collapsed": false
      },
      "outputs": [],
      "source": [
        "from akida_models import fetch_file\n",
        "from tensorflow.keras.models import load_model\n",
        "\n",
        "# Retrieve the model file from the BrainChip data server\n",
        "model_file = fetch_file(fname=\"vgg_utk_face.h5\",\n",
        "                        origin=\"https://data.brainchip.com/models/AkidaV2/vgg/vgg_utk_face.h5\",\n",
        "                        cache_subdir='models')\n",
        "\n",
        "# Load the native Keras pre-trained model\n",
        "model_keras = load_model(model_file)\n",
        "model_keras.summary()"
      ]
    },
    {
      "cell_type": "code",
      "execution_count": null,
      "metadata": {
        "collapsed": false
      },
      "outputs": [],
      "source": [
        "# Compile the native Keras model (required to evaluate the MAE)\n",
        "model_keras.compile(optimizer='Adam', loss='mae')\n",
        "\n",
        "# Check Keras model performance\n",
        "mae_keras = model_keras.evaluate(x_test, y_test, verbose=0)\n",
        "\n",
        "print(\"Keras MAE: {0:.4f}\".format(mae_keras))"
      ]
    },
    {
      "cell_type": "markdown",
      "metadata": {},
      "source": [
        "## 3. Load a pre-trained quantized Keras model\n",
        "\n",
        "The above native Keras model is quantized and fine-tuned (QAT). The first convolutional\n",
        "layer of our model uses 8-bit weights, other layers are quantized using 4-bit weights, all\n",
        "activations are 4-bit.\n",
        "\n",
        "\n"
      ]
    },
    {
      "cell_type": "code",
      "execution_count": null,
      "metadata": {
        "collapsed": false
      },
      "outputs": [],
      "source": [
        "from akida_models import vgg_utk_face_pretrained\n",
        "\n",
        "# Load the pre-trained quantized model\n",
        "model_quantized_keras = vgg_utk_face_pretrained()\n",
        "model_quantized_keras.summary()"
      ]
    },
    {
      "cell_type": "code",
      "execution_count": null,
      "metadata": {
        "collapsed": false
      },
      "outputs": [],
      "source": [
        "# Compile the quantized Keras model (required to evaluate the MAE)\n",
        "model_quantized_keras.compile(optimizer='Adam', loss='mae')\n",
        "\n",
        "# Check Keras model performance\n",
        "mae_quant = model_quantized_keras.evaluate(x_test, y_test, verbose=0)\n",
        "\n",
        "print(\"Keras MAE: {0:.4f}\".format(mae_quant))"
      ]
    },
    {
      "cell_type": "markdown",
      "metadata": {},
      "source": [
        "## 4. Conversion to Akida\n",
        "\n",
        "The quantized Keras model is now converted into an Akida model. After conversion, we evaluate the\n",
        "performance on the UTKFace dataset.\n",
        "\n",
        "\n"
      ]
    },
    {
      "cell_type": "code",
      "execution_count": null,
      "metadata": {
        "collapsed": false
      },
      "outputs": [],
      "source": [
        "from cnn2snn import convert\n",
        "\n",
        "# Convert the model\n",
        "model_akida = convert(model_quantized_keras)\n",
        "model_akida.summary()"
      ]
    },
    {
      "cell_type": "code",
      "execution_count": null,
      "metadata": {
        "collapsed": false
      },
      "outputs": [],
      "source": [
        "import numpy as np\n",
        "\n",
        "# Check Akida model performance\n",
        "y_akida = model_akida.predict(x_test_akida)\n",
        "\n",
        "# Compute and display the MAE\n",
        "mae_akida = np.sum(np.abs(y_test.squeeze() - y_akida.squeeze())) / len(y_test)\n",
        "print(\"Akida MAE: {0:.4f}\".format(mae_akida))\n",
        "\n",
        "# For non-regression purposes\n",
        "assert abs(mae_keras - mae_akida) < 0.5"
      ]
    },
    {
      "cell_type": "markdown",
      "metadata": {},
      "source": [
        "## 5. Estimate age on a single image\n",
        "Select a random image from the test set for age estimation.\n",
        "Print the Keras model's age prediction using the ``model_keras.predict()`` function.\n",
        "Print the Akida model's estimated age and the actual age associated with the image.\n",
        "\n"
      ]
    },
    {
      "cell_type": "code",
      "execution_count": null,
      "metadata": {
        "collapsed": false
      },
      "outputs": [],
      "source": [
        "import matplotlib.pyplot as plt\n",
        "\n",
        "# Estimate age on a random single image and display Keras and Akida outputs\n",
        "id = np.random.randint(0, len(y_test) + 1)\n",
        "age_keras = model_keras.predict(x_test[id:id + 1])\n",
        "\n",
        "plt.imshow(x_test_akida[id], interpolation='bicubic')\n",
        "plt.xticks([]), plt.yticks([])\n",
        "plt.show()\n",
        "\n",
        "print(\"Keras estimated age: {0:.1f}\".format(age_keras.squeeze()))\n",
        "print(\"Akida estimated age: {0:.1f}\".format(y_akida[id].squeeze()))\n",
        "print(f\"Actual age: {y_test[id].squeeze()}\")"
      ]
    }
  ],
  "metadata": {
    "kernelspec": {
      "display_name": "Python 3",
      "language": "python",
      "name": "python3"
    },
    "language_info": {
      "codemirror_mode": {
        "name": "ipython",
        "version": 3
      },
      "file_extension": ".py",
      "mimetype": "text/x-python",
      "name": "python",
      "nbconvert_exporter": "python",
      "pygments_lexer": "ipython3",
      "version": "3.8.10"
    }
  },
  "nbformat": 4,
  "nbformat_minor": 0
}
