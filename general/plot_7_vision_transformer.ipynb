{
  "cells": [
    {
      "cell_type": "code",
      "execution_count": null,
      "metadata": {},
      "outputs": [],
      "source": [
        "!wget https://doc.brainchipinc.com/_downloads/0792bc3dc7b01941f86b4f993c20ab5f/requirements.txt\n",
        "!pip install -r requirements.txt"
      ]
    },
    {
      "cell_type": "code",
      "execution_count": null,
      "metadata": {
        "collapsed": false
      },
      "outputs": [],
      "source": [
        "%matplotlib inline"
      ]
    },
    {
      "cell_type": "markdown",
      "metadata": {},
      "source": [
        "\n",
        "# Build Vision Transformers for Akida\n",
        "\n",
        "The Vision Transformer, or ViT, is a model for image classification that employs a Transformer-like\n",
        "architecture over patches of the image. An image is split into fixed-size patches, each of them are\n",
        "then linearly embedded, position embeddings are added, and the resulting sequence of vectors are\n",
        "fed to a standard Transformer encoder. Please refer to https://arxiv.org/abs/2010.11929 for further\n",
        "details.\n",
        "\n",
        "Akida 2.0 now supports patch and position embeddings, and the encoder block in hardware. This\n",
        "tutorial explains how to build an optimized ViT using Akida models python API for Akida 2.0 hardware.\n"
      ]
    },
    {
      "cell_type": "markdown",
      "metadata": {},
      "source": [
        "## 1. Model selection\n",
        "There are many variants of ViT. The choice of the model is typically influenced by the tradeoff\n",
        "among architecture size, accuracy, inference speed, and training capabilities.\n",
        "\n",
        "The following table shows few variants of commonly used ViT:\n",
        "\n",
        "+--------------+-------------------+---------+-------------------+\n",
        "| Architecture | Original accuracy | #Params | Architecture      |\n",
        "+==============+===================+=========+===================+\n",
        "| ViT Base     |  79.90%           |  86M    |  12 heads,        |\n",
        "|              |                   |         |  12 blocks,       |\n",
        "|              |                   |         |  hidden size 768  |\n",
        "+--------------+-------------------+---------+-------------------+\n",
        "| ViT Tiny     |  75.48%           |  5.8M   |  3 heads,         |\n",
        "|              |                   |         |  12 blocks,       |\n",
        "|              |                   |         |  hidden size 192  |\n",
        "+--------------+-------------------+---------+-------------------+\n",
        "| DeiT-dist    |  74.17%           |  5.8M   |  3 heads,         |\n",
        "| Tiny         |                   |         |  12 blocks,       |\n",
        "|              |                   |         |  hidden size 192  |\n",
        "+--------------+-------------------+---------+-------------------+\n",
        "\n",
        "<div class=\"alert alert-info\"><h4>Note</h4><p>The Vision Transformers support has been introduced in Akida 2.0.</p></div>\n",
        "\n",
        "The Akida model zoo provides tiny  ViT architectures that are optimized to run on Akida\n",
        "hardware:\n",
        "\n",
        " - [ViT (tiny)](../../api_reference/akida_models_apis.html#akida_models.bc_vit_ti16)_,\n",
        " - [DeiT-dist (tiny)](../../api_reference/akida_models_apis.html#akida_models.bc_deit_ti16)_.\n",
        "\n",
        "Both architectures have been modified so that their layers can be quantized to integer only\n",
        "operations.\n",
        "\n"
      ]
    },
    {
      "cell_type": "markdown",
      "metadata": {},
      "source": [
        "## 2. Model optimization for Akida hardware\n",
        "\n",
        "ViT has many encoder blocks that perform self-attention to process visual data. Each encoder\n",
        "block consists of many different layers. To optimally run ViT at the edge using Akida requires\n",
        "transforming this encoder block in the following way:\n",
        "\n",
        "  - replace [LayerNormalization](https://www.tensorflow.org/api_docs/python/tf/keras/layers/LayerNormalization)_ with\n",
        "    [LayerMadNormalization](../../api_reference/quantizeml_apis.html#quantizeml.layers.LayerMadNormalization)_,\n",
        "  - replace the last [LayerNormalization](https://www.tensorflow.org/api_docs/python/tf/keras/layers/LayerNormalization)_ previous\n",
        "    to the classification head with a [BatchNormalization](https://www.tensorflow.org/api_docs/python/tf/keras/layers/BatchNormalization)_,\n",
        "  - replace [GeLU](https://www.tensorflow.org/addons/api_docs/python/tfa/layers/GELU)_\n",
        "    with [ReLU8](https://www.tensorflow.org/api_docs/python/tf/keras/layers/ReLU)_ activations,\n",
        "  - replace [Softmax](https://www.tensorflow.org/api_docs/python/tf/keras/activations/softmax)_ operation in\n",
        "    [Attention](../../api_reference/quantizeml_apis.html#quantizeml.layers.Attention)_ with a\n",
        "    [shiftmax](../../api_reference/quantizeml_apis.html#quantizeml.layers.shiftmax)_ operation.\n",
        "\n",
        "<div class=\"alert alert-info\"><h4>Note</h4><p>Sections below show different ways to train a ViT for Akida which uses the above\n",
        "          transformations.</p></div>\n",
        "\n"
      ]
    },
    {
      "cell_type": "markdown",
      "metadata": {},
      "source": [
        "## 3. Model Training\n",
        "Akida accelerates ViT model that has the transformation mentioned in Section 2. Training a ViT\n",
        "that optimally runs on Akida can be made possible in the following two ways:\n",
        "\n"
      ]
    },
    {
      "cell_type": "markdown",
      "metadata": {},
      "source": [
        "### 3.1 Option 1: Training a ViT (original) model first and then transforming each layer incrementally\n",
        "First, train a ViT (original) model on a custom dataset until satisfactory accuracy. It is then\n",
        "possible to transform this model into an Akida optimized one as per Section 2. The layers mentioned\n",
        "in Section 2 are functionally equivalent to each of the layers present in the original model.\n",
        "\n",
        "<div class=\"alert alert-info\"><h4>Note</h4><p>To overcome the accuracy drop from the original when transforming the model as per\n",
        "          Section 2, it is recommended to replace the original layers all at once and to fine-tune\n",
        "          afterwards.</p></div>\n",
        "\n",
        "The example below shows the transformation of ViT (tiny) into an optimized model that can run on\n",
        "the Akida hardware.\n",
        "\n",
        "The [akida_models](https://pypi.org/project/akida-models)_ python package provides a Command Line\n",
        "Interface (CLI) to transform [vit_ti16](../../_modules/akida_models/transformers/model_vit.html#vit_ti16)_\n",
        "and [deit_ti16](../../_modules/akida_models/transformers/model_deit.html#deit_ti16)_ model architectures\n",
        "and fine-tune them respectively.\n",
        "\n",
        "```bash\n",
        "$ akida_models create vit_ti16 -h\n",
        "usage: akida_models create vit_ti16 [-h] [-c CLASSES] [-bw BASE_WEIGHTS] [--norm {LN,GN1,BN,LMN}]\n",
        "                                    [--last_norm {LN,BN}] [--softmax {softmax,softmax2}]\n",
        "                                    [--act {GeLU,ReLU8,swish}] [-i {224,384}]\n",
        "\n",
        "optional arguments:\n",
        "  -h, --help            show this help message and exit\n",
        "  -c CLASSES, --classes CLASSES\n",
        "                        The number of classes, by default 1000.\n",
        "  -bw BASE_WEIGHTS, --base_weights BASE_WEIGHTS\n",
        "                        Optional keras weights to load in the model, by default None.\n",
        "  --norm {LN,GN1,BN,LMN}\n",
        "                        Replace normalization in model with a custom function, by default LN\n",
        "  --last_norm {LN,BN}   Replace last normalization in model with a custom function, by default LN\n",
        "  --softmax {softmax,softmax2}\n",
        "                        Replace softmax operation in model with custom function, by default softmax\n",
        "  --act {GeLU,ReLU8,swish}\n",
        "                        Replace activation function in model with custom function, by default GeLU\n",
        "  -i {224,384}, --image_size {224,384}\n",
        "                        The square input image size\n",
        "```\n",
        "The following shows the transformation of a vit_ti16 model architecture which was trained on ImageNet. The\n",
        "same methods can be applied for other datasets.\n",
        "\n",
        "```bash\n",
        "# download the pre-trained weights\n",
        "wget https://data.brainchip.com/models/AkidaV2/vit/vit_ti16_224.h5\n",
        "\n",
        "# transformations: replace layer normalization with mad norm layer, last layer normalization\n",
        "# with batch normalization, GeLU layer with ReLU and softmax with shiftmax layer\n",
        "akida_models create -s vit_ti16_transformed.h5 vit_ti16 --norm LMN --last_norm BN --act ReLU8 \\\n",
        "                                                --softmax softmax2 -bw vit_ti16_224.h5\n",
        "# fine-tuning\n",
        "imagenet_train tune -m vit_ti16_transformed.h5 -e 30 --optim Adam --lr_policy cosine_decay \\\n",
        "                    -lr 6e-5 -s vit_ti16_transformed.h5\n",
        "```\n",
        "The above transformation generates a ViT model that is optimized to run efficiently on Akida hardware.\n",
        "Similar steps can also be applied to deit_ti16. The table below highlights the accuracy of the original\n",
        "and transformed models.\n",
        "\n",
        "+--------------+-------------------+----------------------+\n",
        "| Architecture | Original accuracy | Transformed accuracy |\n",
        "+==============+===================+======================+\n",
        "| ViT          |  75.48%           | 74.25%               |\n",
        "+--------------+-------------------+----------------------+\n",
        "| DeiT-dist    |  74.17%           | 75.03%               |\n",
        "+--------------+-------------------+----------------------+\n",
        "\n",
        "<div class=\"alert alert-info\"><h4>Note</h4><p>The models obtained above have floating point weights and are ready to be quantized.\n",
        "          See Section 4.</p></div>\n",
        "\n"
      ]
    },
    {
      "cell_type": "markdown",
      "metadata": {},
      "source": [
        "### 3.2 Option 2: Transfer Learning using Pre-trained transformed model\n",
        "The [Akida models python package](../../api_reference/akida_models_apis.html)_ has  [APIs for ViTs](../../api_reference/akida_models_apis.html#layer-blocks)_ which provides pre-trained models for\n",
        "[vit_ti16](../../_modules/akida_models/transformers/model_vit.html#vit_ti16)_ and [deit_ti16](../../_modules/akida_models/transformers/model_deit.html#deit_ti16)_. These models can be used\n",
        "for Transfer Learning on a custom dataset. Since the above models are already transformed, no\n",
        "further transformation is required.\n",
        "\n",
        "Visit our [Transfer Learning Example](plot_4_transfer_learning.html)_ to learn more about Transfer\n",
        "Learning using the [Akida models python package](../../api_reference/akida_models_apis.html)_. The\n",
        "following code snippet downloads a pre-trained model that can be used for Transfer Learning.\n",
        "\n"
      ]
    },
    {
      "cell_type": "code",
      "execution_count": null,
      "metadata": {
        "collapsed": false
      },
      "outputs": [],
      "source": [
        "# The following is the API download the vit_t16 model trained on ImageNet dataset\n",
        "from akida_models import fetch_file\n",
        "from akida_models.model_io import load_model\n",
        "\n",
        "# Retrieve the float model with pretrained weights and load it\n",
        "model_file = fetch_file(\n",
        "    fname=\"bc_vit_ti16_224.h5\",\n",
        "    origin=\"https://data.brainchip.com/models/AkidaV2/vit/bc_vit_ti16_224.h5\",\n",
        "    cache_subdir='models/akidanet_imagenet')\n",
        "model_keras = load_model(model_file)\n",
        "model_keras.summary()"
      ]
    },
    {
      "cell_type": "markdown",
      "metadata": {},
      "source": [
        "<div class=\"alert alert-info\"><h4>Note</h4><p>The models in Section 3 have floating point weights. Once the desired accuracy is obtained,\n",
        "          these models should go through quantization before converting to Akida.</p></div>\n",
        "\n"
      ]
    },
    {
      "cell_type": "markdown",
      "metadata": {},
      "source": [
        "## 4. Model quantization\n",
        "Akida 2.0 hardware adds efficient processing of 8-bit weights and activations for Vision Transformer\n",
        "models. This requires models in Section 3 to be quantized to 8-bit integer numbers. This means both\n",
        "weights and activation outputs become 8-bit integer numbers. This results in a smaller  model with\n",
        "minimal to no drop in accuracy and achieves improvements in latency and power when running on Akida\n",
        "hardware.\n",
        "\n",
        "Quantization of ViT models can be done using [QuantizeML python package](../../user_guide/quantizeml.html)_\n",
        "using either Post Training Quantization (PTQ) or Quantization Aware Training (QAT) methods. The following\n",
        "section shows quantization an example, quantization of [vit_ti16](../../_modules/akida_models/transformers/model_vit.html#vit_ti16)_ trained on ImageNet dataset.\n",
        "\n"
      ]
    },
    {
      "cell_type": "markdown",
      "metadata": {},
      "source": [
        "### 4.1 Post-Training Quantization\n",
        "Using [QuantizeML python package](../../user_guide/quantizeml.html)_, ViT model can be quantized to\n",
        "8-bit integer numbers (both weights and activation outputs). PTQ requires calibration (ideally using\n",
        "reference data) which helps to determine optimal quantization ranges. To learn more about PTQ, refer\n",
        "to [Advanced QuantizeML tutorial](../quantization/plot_0_advanced_quantizeml.html)_.\n",
        "\n"
      ]
    },
    {
      "cell_type": "code",
      "execution_count": null,
      "metadata": {
        "collapsed": false
      },
      "outputs": [],
      "source": [
        "# Using QuantizeML to perform quantization\n",
        "from quantizeml.models import quantize\n",
        "from quantizeml.layers import QuantizationParams\n",
        "\n",
        "# Define the quantization parameters.\n",
        "qparams = QuantizationParams(weight_bits=8, activation_bits=8)\n",
        "\n",
        "# Quantize the model defined in Section 3.2\n",
        "model_quantized = quantize(model_keras, qparams=qparams)\n",
        "model_quantized.summary()"
      ]
    },
    {
      "cell_type": "markdown",
      "metadata": {},
      "source": [
        "The [bc_vit_ti16_imagenet_pretrained helper](../../api_reference/akida_models_apis.html#akida_models.bc_vit_ti16_imagenet_pretrained)_\n",
        "was obtained with the same 8-bit quantization scheme but with an additional QAT step to further\n",
        "improve accuracy.\n",
        "\n"
      ]
    },
    {
      "cell_type": "markdown",
      "metadata": {},
      "source": [
        "### 4.2 Quantization Aware Training (Optional)\n",
        "In Section 4.1, we performed PTQ and converted the weights and activation outputs to 8-bit integer numbers.\n",
        "In most cases, there is no accuracy drop observed after quantization, however in cases where an accurary\n",
        "drop is observed, it is possible to further fine-tune this model using QAT.\n",
        "\n",
        "The model that is obtained through [QuantizeML python package](../../user_guide/quantizeml.html)_ is an\n",
        "instance of Keras. This allows the model to be fine-tuned using the original dataset to regain accuracy.\n",
        "\n",
        "[Akida models python package](../../api_reference/akida_models_apis.html)_  provides pre-trained models\n",
        "for vit_ti16 and deit_ti16 that have been trained using QAT method. It can be used in the following way:\n",
        "\n"
      ]
    },
    {
      "cell_type": "code",
      "execution_count": null,
      "metadata": {
        "collapsed": false
      },
      "outputs": [],
      "source": [
        "from akida_models import bc_vit_ti16_imagenet_pretrained\n",
        "\n",
        "# Load the pre-trained quantized model\n",
        "model_quantized = bc_vit_ti16_imagenet_pretrained()\n",
        "model_quantized.summary()"
      ]
    },
    {
      "cell_type": "markdown",
      "metadata": {},
      "source": [
        "## 5. Conversion to Akida\n",
        "\n",
        "A model quantized through [QuantizeML python package](../../user_guide/quantizeml.html)_ is ready to be\n",
        "converted to Akida. Once the quantized model has the desired accuracy [CNN2SNN toolkit](../../user_guide/cnn2snn.html)_\n",
        "is used for conversion to Akida. There is no further optimization required and equivalent accuracy is\n",
        "observed upon converting the model to Akida.\n",
        "\n"
      ]
    },
    {
      "cell_type": "code",
      "execution_count": null,
      "metadata": {
        "collapsed": false
      },
      "outputs": [],
      "source": [
        "from cnn2snn import convert\n",
        "\n",
        "# Convert the model\n",
        "model_akida = convert(model_quantized)\n",
        "model_akida.summary()"
      ]
    },
    {
      "cell_type": "markdown",
      "metadata": {},
      "source": [
        "## 6. Displaying results Attention Maps\n",
        "\n",
        "Instead of showing predictions, here we propose to show attention maps on an image. This is\n",
        "derived from [Abnar et al. attention rollout](https://arxiv.org/abs/2005.00928)_ as shown in the\n",
        "following [Keras tutorial](https://keras.io/examples/vision/probing_vits/#method-ii-attention-rollout)_. This aims to\n",
        "highlight the model abilities to focus on relevant parts in the input image.\n",
        "\n",
        "Just like for the [AkidaNet example](plot_1_akidanet_imagenet.html#sphx-glr-examples-general-plot-1-akidanet-imagenet-py)_, ImageNet\n",
        "images are not publicly available, this example uses a set of 10 copyright free images that were\n",
        "found on Google using ImageNet class names.\n",
        "\n",
        "Get sample images and preprocess them:\n",
        "\n"
      ]
    },
    {
      "cell_type": "code",
      "execution_count": null,
      "metadata": {
        "collapsed": false
      },
      "outputs": [],
      "source": [
        "import os\n",
        "import numpy as np\n",
        "\n",
        "from tensorflow.io import read_file\n",
        "from tensorflow.image import decode_jpeg\n",
        "\n",
        "from akida_models.imagenet import preprocessing\n",
        "\n",
        "# Model specification and hyperparameters\n",
        "NUM_CHANNELS = 3\n",
        "IMAGE_SIZE = 224\n",
        "\n",
        "NUM_IMAGES = 10\n",
        "\n",
        "# Retrieve dataset file from Brainchip data server\n",
        "file_path = fetch_file(\n",
        "    fname=\"imagenet_like.zip\",\n",
        "    origin=\"https://data.brainchip.com/dataset-mirror/imagenet_like/imagenet_like.zip\",\n",
        "    cache_subdir='datasets/imagenet_like',\n",
        "    extract=True)\n",
        "data_folder = os.path.dirname(file_path)\n",
        "\n",
        "# Load images for test set\n",
        "x_test_files = []\n",
        "x_test = np.zeros((NUM_IMAGES, IMAGE_SIZE, IMAGE_SIZE, NUM_CHANNELS)).astype('uint8')\n",
        "for id in range(NUM_IMAGES):\n",
        "    test_file = 'image_' + str(id + 1).zfill(2) + '.jpg'\n",
        "    x_test_files.append(test_file)\n",
        "    img_path = os.path.join(data_folder, test_file)\n",
        "    base_image = read_file(img_path)\n",
        "    image = decode_jpeg(base_image, channels=NUM_CHANNELS)\n",
        "    image = preprocessing.preprocess_image(image, (IMAGE_SIZE, IMAGE_SIZE))\n",
        "    x_test[id, :, :, :] = np.expand_dims(image, axis=0)\n",
        "\n",
        "print(f'{NUM_IMAGES} images loaded and preprocessed.')"
      ]
    },
    {
      "cell_type": "markdown",
      "metadata": {},
      "source": [
        "Build and display the attention map for one selected sample:\n",
        "\n"
      ]
    },
    {
      "cell_type": "code",
      "execution_count": null,
      "metadata": {
        "collapsed": false
      },
      "outputs": [],
      "source": [
        "import cv2\n",
        "import matplotlib.pyplot as plt\n",
        "\n",
        "from keras import Model\n",
        "from quantizeml.layers import ClassToken, Attention\n",
        "from quantizeml.tensors import FixedPoint\n",
        "from quantizeml.models.transforms.transforms_utils import get_layers_by_type\n",
        "\n",
        "\n",
        "def build_attention_map(model, image):\n",
        "    # Get the Attention layers list\n",
        "    attentions = get_layers_by_type(model, Attention)\n",
        "\n",
        "    # Calculate the number of tokens and deduce the grid size\n",
        "    num_tokens = sum(isinstance(ly, ClassToken) for ly in model.layers)\n",
        "    grid_size = int(np.sqrt(attentions[0].output_shape[0][-2] - num_tokens))\n",
        "\n",
        "    # Get the attention weights from each transformer\n",
        "    outputs = [la.output[1] for la in attentions]\n",
        "    weights = Model(inputs=model.inputs, outputs=outputs).predict(np.expand_dims(image, 0))\n",
        "\n",
        "    # Converts to float if needed\n",
        "    weights = [w.to_float() if isinstance(w, FixedPoint) else w for w in weights]\n",
        "    weights = np.array(weights)\n",
        "\n",
        "    # Heads number\n",
        "    num_heads = weights.shape[2]\n",
        "    num_layers = weights.shape[0]\n",
        "    reshaped = weights.reshape((num_layers, num_heads, grid_size**2 + 1, grid_size**2 + 1))\n",
        "\n",
        "    # Average the attention weights across all heads\n",
        "    reshaped = reshaped.mean(axis=1)\n",
        "\n",
        "    # To account for residual connections, we add an identity matrix to the attention matrix and\n",
        "    # re-normalize the weights.\n",
        "    reshaped = reshaped + np.eye(reshaped.shape[1])\n",
        "    reshaped = reshaped / reshaped.sum(axis=(1, 2))[:, np.newaxis, np.newaxis]\n",
        "\n",
        "    # Recursively multiply the weight matrices\n",
        "    v = reshaped[-1]\n",
        "    for n in range(1, len(reshaped)):\n",
        "        v = np.matmul(v, reshaped[-1 - n])\n",
        "\n",
        "    # Attention from the output token to the input space\n",
        "    mask = v[0, 1:].reshape(grid_size, grid_size)\n",
        "    mask = cv2.resize(mask / mask.max(), (image.shape[1], image.shape[0]))[..., np.newaxis]\n",
        "    return (mask * image).astype(\"uint8\")\n",
        "\n",
        "\n",
        "# Using a specific image for which attention map is easier to observe\n",
        "image = x_test[8]\n",
        "\n",
        "# Compute the attention map\n",
        "attention_float = build_attention_map(model_keras, image)\n",
        "attention_quantized = build_attention_map(model_quantized, image)\n",
        "\n",
        "# Display the attention map\n",
        "fig, (ax1, ax2, ax3) = plt.subplots(ncols=3)\n",
        "ax1.axis('off')\n",
        "ax1.set_title('Original')\n",
        "ax1.imshow(image)\n",
        "\n",
        "ax2.axis('off')\n",
        "ax2.set_title('Float')\n",
        "ax2.imshow(attention_float)\n",
        "\n",
        "ax3.axis('off')\n",
        "ax3.set_title('Quantized')\n",
        "ax3.imshow(attention_quantized)\n",
        "fig.suptitle('Attention masks', fontsize=10)\n",
        "plt.show()"
      ]
    }
  ],
  "metadata": {
    "kernelspec": {
      "display_name": "Python 3",
      "language": "python",
      "name": "python3"
    },
    "language_info": {
      "codemirror_mode": {
        "name": "ipython",
        "version": 3
      },
      "file_extension": ".py",
      "mimetype": "text/x-python",
      "name": "python",
      "nbconvert_exporter": "python",
      "pygments_lexer": "ipython3",
      "version": "3.8.10"
    }
  },
  "nbformat": 4,
  "nbformat_minor": 0
}
